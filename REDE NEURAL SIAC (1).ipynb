{
 "cells": [
  {
   "cell_type": "markdown",
   "id": "174878c9",
   "metadata": {},
   "source": [
    "# Implementando Redes Neurais Convolucionais para quantificar porosidade "
   ]
  },
  {
   "cell_type": "markdown",
   "id": "2047b2c8",
   "metadata": {},
   "source": [
    "# Oque são Redes Neurais"
   ]
  },
  {
   "cell_type": "markdown",
   "id": "b7c68d6e",
   "metadata": {},
   "source": [
    "Redes neurais sao sistemas de computacao com nos interconectados que funcionam como os neuronios do cerebro humano. Usando algoritmos, elas podem reconhecer padroes escondidos e correlacoes em dados brutos, agrupá-los e classificá-los, e – com o tempo – aprender e melhorar continuamente.\n",
    "\n"
   ]
  },
  {
   "cell_type": "markdown",
   "id": "0ea523c1",
   "metadata": {},
   "source": [
    "# Estrutura básica"
   ]
  },
  {
   "cell_type": "markdown",
   "id": "31a267c5",
   "metadata": {},
   "source": [
    "Uma rede neural basica consiste em camadas de neuronios. Todo o processo comeca na camada de entrada onde a informacao ou solicitacao é recebida. A camada de entrada o transforma em um formato numerico que é compreensivel para a maquina.\n",
    "\n",
    "Esses dados sao transmitidos aos neuronios das camadas ocultas e processados de acordo com as formulas ja incorporadas. Os neuronios sempre produzem um unico valor, nao importa quantas conexoes de saida eles tenham.\n",
    "\n",
    "A resposta dos neuronios depende dos coeficientes desenvolvidos durante o treinamento. Esses coeficientes sao chamados de pesos. Esses coeficientes funcionam como memoria: a rede neural lembra como responder a dados com caracteristicas semelhantes.\n",
    "\n",
    "Na ultima camada de saida, a rede neural tira uma conclusao e termina de processar a solicitacao."
   ]
  },
  {
   "cell_type": "markdown",
   "id": "664a4d37",
   "metadata": {},
   "source": [
    "# Redes Neurais Convolucionais\n"
   ]
  },
  {
   "cell_type": "markdown",
   "id": "74a637e3",
   "metadata": {},
   "source": [
    "Camada Convolucional: Esta camada extrai recursos de alto nivel dos dados de entrada e os repassa para a proxima camada na forma de mapas de recursos.\n",
    "\n",
    "Camada de Pooling: É usada para reduzir as dimensoes dos dados aplicando camadas de agrupamento (Pooling). Essa camada recebe cada saída do mapa de recursos da camada convolucional e prepara um mapa de caracteristicas condensadas.\n",
    "\n",
    "Camada Totalmente Conectada: Finalmente, a tarefa de classificacao é feita pela camada totalmente conectada. As pontuacoes de probabilidade sao calculadas para cada rotulo de classe por uma funcao de ativacao popularmente chamada de funcao softmax."
   ]
  },
  {
   "cell_type": "markdown",
   "id": "30046f26",
   "metadata": {},
   "source": [
    "# Dataset"
   ]
  },
  {
   "cell_type": "markdown",
   "id": "1b944f69",
   "metadata": {},
   "source": [
    "Dataset composto por imagens digitais obtidas a partir da aquisicao por microscopia fotonica com luz polarizada de lamina delgada de amostras de calcarios da Formacao Barra Velha no poço 9-BRSA-0706-RJ, campo de Berbigao, bacia sedimentar de Santos."
   ]
  },
  {
   "cell_type": "markdown",
   "id": "44fa913a",
   "metadata": {},
   "source": [
    "# Importando bibliotecas"
   ]
  },
  {
   "cell_type": "code",
   "execution_count": 4,
   "id": "8ccd3185",
   "metadata": {},
   "outputs": [],
   "source": [
    "import numpy as np\n",
    "import os\n",
    "import PIL\n",
    "import PIL.Image\n",
    "import tensorflow as tf\n",
    "import pandas as pd\n",
    "from sklearn.metrics import r2_score\n",
    "import matplotlib.pyplot as plt\n",
    "from sklearn.metrics import mean_absolute_error"
   ]
  },
  {
   "cell_type": "markdown",
   "id": "55834e7b",
   "metadata": {},
   "source": [
    "# Carregando os dados"
   ]
  },
  {
   "cell_type": "code",
   "execution_count": 5,
   "id": "6ab001f5",
   "metadata": {},
   "outputs": [],
   "source": [
    "import pandas as pd\n",
    "\n",
    "# Definindo o caminho para o arquivo CSV\n",
    "path_train= r'Y:\\ALUNOS\\PRESAL2\\EXOCARB\\GRADUACAO\\THEO COHEN\\Atividades - Théo Cohen Farhat - 2023&2024\\dataset\\df_train.csv'\n",
    "path_test= r'Y:\\ALUNOS\\PRESAL2\\EXOCARB\\GRADUACAO\\THEO COHEN\\Atividades - Théo Cohen Farhat - 2023&2024\\dataset\\df_test.csv'\n",
    "# Carregando o arquivo CSV no DataFrame do pandas\n",
    "train_df = pd.read_csv(path_train)\n",
    "test_df = pd.read_csv(path_test)"
   ]
  },
  {
   "cell_type": "markdown",
   "id": "c1de90ee",
   "metadata": {},
   "source": [
    "# Geradores Keras"
   ]
  },
  {
   "cell_type": "markdown",
   "id": "7434dc98",
   "metadata": {},
   "source": [
    "A classe ImageDataGenerator do modulo tensorflow.keras.preprocessing.image e utilizada para preparar geradores de dados que serao usados para treinar, validar e testar um modelo de aprendizado profundo. Esses geradores de dados sao configurados para carregar imagens a partir de um diretorio e as correspondentes etiquetas de um dataframe."
   ]
  },
  {
   "cell_type": "code",
   "execution_count": 6,
   "id": "3030fe2a",
   "metadata": {},
   "outputs": [],
   "source": [
    "# Criação do ImageDataGenerator com data augmentation e split de validação\n",
    "from keras.preprocessing.image import ImageDataGenerator\n",
    "datagen = ImageDataGenerator(\n",
    "    horizontal_flip=True,\n",
    "    vertical_flip=True,\n",
    "    validation_split=0.2\n",
    ")"
   ]
  },
  {
   "cell_type": "code",
   "execution_count": 7,
   "id": "0fced2e0",
   "metadata": {},
   "outputs": [
    {
     "name": "stdout",
     "output_type": "stream",
     "text": [
      "Found 54 validated image filenames.\n"
     ]
    },
    {
     "name": "stderr",
     "output_type": "stream",
     "text": [
      "C:\\Users\\theocf\\AppData\\Local\\anaconda3\\Lib\\site-packages\\keras\\src\\preprocessing\\image.py:1137: UserWarning: Found 6 invalid image filename(s) in x_col=\"id\". These filename(s) will be ignored.\n",
      "  warnings.warn(\n"
     ]
    }
   ],
   "source": [
    "train_generator = datagen.flow_from_dataframe(\n",
    "    dataframe=train_df,\n",
    "    directory='Y:\\ALUNOS\\PRESAL2\\EXOCARB\\GRADUACAO\\THEO COHEN\\Atividades - Théo Cohen Farhat - 2023&2024\\dataset\\images',\n",
    "    x_col='id',\n",
    "    y_col='porosidade',\n",
    "    target_size=(120,120),\n",
    "    batch_size=32,\n",
    "    class_mode='raw',\n",
    "    subset='training',\n",
    "    shuffle=True\n",
    ")"
   ]
  },
  {
   "cell_type": "code",
   "execution_count": 8,
   "id": "f7a1b35a",
   "metadata": {},
   "outputs": [
    {
     "name": "stdout",
     "output_type": "stream",
     "text": [
      "Found 13 validated image filenames.\n"
     ]
    }
   ],
   "source": [
    "val_generator = datagen.flow_from_dataframe(\n",
    "    dataframe=train_df,\n",
    "    directory='Y:\\ALUNOS\\PRESAL2\\EXOCARB\\GRADUACAO\\THEO COHEN\\Atividades - Théo Cohen Farhat - 2023&2024\\dataset\\images',\n",
    "    x_col='id',\n",
    "    y_col='porosidade',\n",
    "    target_size=(120, 120),\n",
    "    batch_size=32,\n",
    "    class_mode='raw',\n",
    "    subset='validation',\n",
    "    shuffle=True\n",
    ")\n"
   ]
  },
  {
   "cell_type": "code",
   "execution_count": 9,
   "id": "51c985c1",
   "metadata": {},
   "outputs": [
    {
     "name": "stdout",
     "output_type": "stream",
     "text": [
      "Found 13 validated image filenames.\n"
     ]
    },
    {
     "name": "stderr",
     "output_type": "stream",
     "text": [
      "C:\\Users\\theocf\\AppData\\Local\\anaconda3\\Lib\\site-packages\\keras\\src\\preprocessing\\image.py:1137: UserWarning: Found 3 invalid image filename(s) in x_col=\"id\". These filename(s) will be ignored.\n",
      "  warnings.warn(\n"
     ]
    }
   ],
   "source": [
    "test_generator = datagen.flow_from_dataframe(\n",
    "    dataframe=test_df,\n",
    "    directory='Y:\\ALUNOS\\PRESAL2\\EXOCARB\\GRADUACAO\\THEO COHEN\\Atividades - Théo Cohen Farhat - 2023&2024\\dataset\\images',\n",
    "    x_col='id',\n",
    "    y_col='porosidade',\n",
    "    target_size=(120, 120),\n",
    "    batch_size=32,\n",
    "    class_mode='raw',\n",
    "    shuffle=False\n",
    ")"
   ]
  },
  {
   "cell_type": "markdown",
   "id": "c9b57d4b",
   "metadata": {},
   "source": [
    "dataframe=train_df: Indica que os dados de treinamento estao no dataframe train_df.\n",
    "\n",
    "directory='/content/drive/MyDrive/calculo-porosidade/dataset/images': Diretorio onde as imagens estao armazenadas.\n",
    "\n",
    "x_col='id': Coluna do dataframe que contem os nomes dos arquivos de imagem.\n",
    "\n",
    "y_col='porosidade': Coluna do dataframe que contem os rotulos/valores alvo (porosidade).\n",
    "\n",
    "target_size=(120,120): As imagens serao redimensionadas para 120x120 pixels.\n",
    "\n",
    "batch_size=32: Tamanho do lote de imagens processadas de cada vez.\n",
    "\n",
    "class_mode='raw': As etiquetas nao sao categorias, mas valores continuos.\n",
    "\n",
    "subset='training': Indica que este gerador e para o conjunto de treinamento.\n",
    "\n",
    "shuffle=True: Os dados serao embaralhados a cada epoca."
   ]
  },
  {
   "cell_type": "code",
   "execution_count": 10,
   "id": "ed4b5b3e",
   "metadata": {},
   "outputs": [
    {
     "name": "stdout",
     "output_type": "stream",
     "text": [
      "Número de imagens para treinamento: 54\n",
      "Número de imagens para validacao: 13\n",
      "Número de imagens para teste: 13\n"
     ]
    }
   ],
   "source": [
    "# Número de amostras em cada gerador\n",
    "num_train_samples = train_generator.samples\n",
    "num_val_samples = val_generator.samples\n",
    "num_test_samples = test_generator.samples\n",
    "\n",
    "print(f\"Número de imagens para treinamento: {num_train_samples}\")\n",
    "print(f\"Número de imagens para validacao: {num_val_samples}\")\n",
    "print(f\"Número de imagens para teste: {num_test_samples}\")"
   ]
  },
  {
   "cell_type": "code",
   "execution_count": 12,
   "id": "0e1f7138",
   "metadata": {},
   "outputs": [
    {
     "ename": "NameError",
     "evalue": "name 'images' is not defined",
     "output_type": "error",
     "traceback": [
      "\u001b[1;31m---------------------------------------------------------------------------\u001b[0m",
      "\u001b[1;31mNameError\u001b[0m                                 Traceback (most recent call last)",
      "Cell \u001b[1;32mIn[12], line 14\u001b[0m\n\u001b[0;32m     11\u001b[0m     plt\u001b[38;5;241m.\u001b[39mshow()\n\u001b[0;32m     13\u001b[0m \u001b[38;5;66;03m# Mostrar as primeiras 5 imagens do lote\u001b[39;00m\n\u001b[1;32m---> 14\u001b[0m show_images(images, labels, n\u001b[38;5;241m=\u001b[39m\u001b[38;5;241m5\u001b[39m)\n",
      "\u001b[1;31mNameError\u001b[0m: name 'images' is not defined"
     ]
    }
   ],
   "source": [
    "import matplotlib.pyplot as plt\n",
    "\n",
    "# Função para exibir um lote de imagens\n",
    "def show_images(images, labels, n=5):\n",
    "    plt.figure(figsize=(20, 20))\n",
    "    for i in range(n):\n",
    "        plt.subplot(1, n, i + 1)\n",
    "        plt.imshow(images[i])\n",
    "        plt.title(f'Label: {labels[i]}')\n",
    "        plt.axis('off')\n",
    "    plt.show()\n",
    "\n",
    "# Mostrar as primeiras 5 imagens do lote\n",
    "show_images(images, labels, n=5)"
   ]
  },
  {
   "cell_type": "markdown",
   "id": "4631c601",
   "metadata": {},
   "source": [
    "# Definindo a Arquitetura"
   ]
  },
  {
   "cell_type": "markdown",
   "id": "88718679",
   "metadata": {},
   "source": [
    "\n",
    "Entrada:\n",
    "input_shape=(120, 120, 3): Especifica a forma da entrada como 120x120 pixels com 3 canais de cor (RGB).\n",
    "Camadas Convolucionais e de Pooling:\n",
    "\n",
    "Conv2D(75, (3, 3), strides=1, padding=\"same\", activation=\"relu\"): Primeira camada convolucional com 75 filtros de tamanho 3x3, strides de 1, padding \"same\" e ativação ReLU.\n",
    "\n",
    "\n",
    "MaxPool2D((2, 2), strides=2, padding=\"same\"): Camada de pooling máximo que reduz a dimensionalidade pela metade.\n",
    "\n",
    "\n",
    "Conv2D(50, (3, 3), strides=1, padding=\"same\", activation=\"relu\"): Segunda camada convolucional com 50 filtros de tamanho 3x3, strides de 1, padding \"same\" e ativação ReLU.\n",
    "\n",
    "\n",
    "MaxPool2D((2, 2), strides=2, padding=\"same\"): Outra camada de pooling máximo.\n",
    "\n",
    "\n",
    "Conv2D(25, (3, 3), strides=1, padding=\"same\", activation=\"relu\"): Terceira camada convolucional com 25 filtros de tamanho 3x3, strides de 1, padding \"same\" e ativação ReLU.\n",
    "\n",
    "\n",
    "MaxPool2D((2, 2), strides=2, padding=\"same\"): Outra camada de pooling máximo.\n",
    "Camada de Flatten:\n",
    "\n",
    "\n",
    "\n",
    "Flatten(): Transforma a saída 2D em 1D para a entrada na camada densa.\n",
    "Camadas Densas:\n",
    "\n",
    "\n",
    "\n",
    "Dense(units=512, activation=\"relu\"): Camada densa com 512 unidades e ativação ReLU.\n",
    "Saída:\n",
    "\n",
    "\n",
    "\n",
    "Dense(units=1, activation=\"linear\"): Camada de saída com 1 unidade e ativação linear para regressão. "
   ]
  },
  {
   "cell_type": "code",
   "execution_count": 13,
   "id": "39450fd8",
   "metadata": {},
   "outputs": [],
   "source": [
    "from tensorflow.keras.models import Sequential\n",
    "from tensorflow.keras.layers import (\n",
    "    Dense,\n",
    "    Conv2D,\n",
    "    MaxPool2D,\n",
    "    Flatten,\n",
    "    Dropout,\n",
    "    BatchNormalization,\n",
    ")\n",
    "\n",
    "model = Sequential()\n",
    "model.add(Conv2D(75, (3, 3), strides=1, padding=\"same\", activation=\"relu\",\n",
    "                 input_shape=(120, 120, 3)))\n",
    "model.add(MaxPool2D((2, 2), strides=2, padding=\"same\"))\n",
    "model.add(Conv2D(50, (3, 3), strides=1, padding=\"same\", activation=\"relu\"))\n",
    "model.add(MaxPool2D((2, 2), strides=2, padding=\"same\"))\n",
    "model.add(Conv2D(25, (3, 3), strides=1, padding=\"same\", activation=\"relu\"))\n",
    "model.add(MaxPool2D((2, 2), strides=2, padding=\"same\"))\n",
    "model.add(Flatten())\n",
    "model.add(Dense(units=512, activation=\"relu\"))\n",
    "model.add(Dense(units=1, activation=\"linear\"))"
   ]
  },
  {
   "cell_type": "markdown",
   "id": "5b5c883d",
   "metadata": {},
   "source": [
    "# Treinamento do Modelo "
   ]
  },
  {
   "cell_type": "code",
   "execution_count": 15,
   "id": "ca3c6f10",
   "metadata": {},
   "outputs": [
    {
     "name": "stdout",
     "output_type": "stream",
     "text": [
      "Epoch 1/100\n",
      "2/2 [==============================] - 2s 847ms/step - loss: 635.0865 - val_loss: 227.6867\n",
      "Epoch 2/100\n",
      "2/2 [==============================] - 1s 430ms/step - loss: 110.9445 - val_loss: 31.6825\n",
      "Epoch 3/100\n",
      "2/2 [==============================] - 1s 422ms/step - loss: 37.6179 - val_loss: 322.6353\n",
      "Epoch 4/100\n",
      "2/2 [==============================] - 1s 586ms/step - loss: 80.4953 - val_loss: 25.4406\n",
      "Epoch 5/100\n",
      "2/2 [==============================] - 1s 609ms/step - loss: 16.7700 - val_loss: 25.0956\n",
      "Epoch 6/100\n",
      "2/2 [==============================] - 1s 442ms/step - loss: 16.0806 - val_loss: 19.2840\n",
      "Epoch 7/100\n",
      "2/2 [==============================] - 1s 747ms/step - loss: 11.8534 - val_loss: 15.3513\n",
      "Epoch 8/100\n",
      "2/2 [==============================] - 1s 418ms/step - loss: 10.3551 - val_loss: 8.4170\n",
      "Epoch 9/100\n",
      "2/2 [==============================] - 1s 420ms/step - loss: 10.9730 - val_loss: 15.1784\n",
      "Epoch 10/100\n",
      "2/2 [==============================] - 1s 615ms/step - loss: 11.1202 - val_loss: 15.3896\n",
      "Epoch 11/100\n",
      "2/2 [==============================] - 1s 420ms/step - loss: 8.9707 - val_loss: 15.1211\n",
      "Epoch 12/100\n",
      "2/2 [==============================] - 1s 438ms/step - loss: 6.7464 - val_loss: 19.1313\n",
      "Epoch 13/100\n",
      "2/2 [==============================] - 1s 623ms/step - loss: 10.2235 - val_loss: 29.8774\n"
     ]
    }
   ],
   "source": [
    "model.compile(\n",
    "    optimizer='adam',\n",
    "    loss='mse'\n",
    ")\n",
    "\n",
    "history = model.fit(\n",
    "    train_generator,\n",
    "    validation_data=val_generator,\n",
    "    epochs=100,\n",
    "    callbacks=[\n",
    "        tf.keras.callbacks.EarlyStopping(\n",
    "            monitor='val_loss',\n",
    "            patience=5,\n",
    "           restore_best_weights=True\n",
    "        )\n",
    "    ]\n",
    ")"
   ]
  },
  {
   "cell_type": "code",
   "execution_count": 18,
   "id": "0c1add0e",
   "metadata": {},
   "outputs": [
    {
     "name": "stdout",
     "output_type": "stream",
     "text": [
      "1/1 [==============================] - 0s 479ms/step\n"
     ]
    }
   ],
   "source": [
    "predicted_porosity = np.squeeze(model.predict(test_generator))\n",
    "true_porosity = test_generator.labels"
   ]
  },
  {
   "cell_type": "markdown",
   "id": "194974bf",
   "metadata": {},
   "source": [
    "# Avaliando o Modelo"
   ]
  },
  {
   "cell_type": "code",
   "execution_count": 19,
   "id": "4a6b4e84",
   "metadata": {},
   "outputs": [
    {
     "name": "stdout",
     "output_type": "stream",
     "text": [
      "Erro Medio Absoluto (MAE): 2.878764174534724\n",
      "Erro Quadrático Medio (MSE): 12.282978010761715\n"
     ]
    }
   ],
   "source": [
    "import numpy as np\n",
    "from sklearn.metrics import mean_squared_error, mean_absolute_error\n",
    "import matplotlib.pyplot as plt\n",
    "\n",
    "# Calcular o erro médio absoluto e o erro quadrático médio\n",
    "mae = mean_absolute_error(true_porosity, predicted_porosity)\n",
    "mse = mean_squared_error(true_porosity, predicted_porosity)\n",
    "\n",
    "print(f\"Erro Medio Absoluto (MAE): {mae}\")\n",
    "print(f\"Erro Quadrático Medio (MSE): {mse}\")\n"
   ]
  },
  {
   "cell_type": "markdown",
   "id": "0b1dbe6e",
   "metadata": {},
   "source": [
    "# Grafico de Comparacao"
   ]
  },
  {
   "cell_type": "code",
   "execution_count": 20,
   "id": "9627f265",
   "metadata": {},
   "outputs": [
    {
     "data": {
      "image/png": "[encoded data removed]",
      "text/plain": [
       "<Figure size 2000x500 with 1 Axes>"
      ]
     },
     "metadata": {},
     "output_type": "display_data"
    }
   ],
   "source": [
    "%matplotlib inline\n",
    "plt.figure(figsize=(20,5))\n",
    "plt.plot(predicted_porosity[:150], linewidth=2, color='r')\n",
    "plt.plot(true_porosity[:150], linewidth=0.5,color='b')\n",
    "plt.title('Comparação entre os valores de porosidade real e os preditos!',size=15)\n",
    "plt.legend(['Predições','Real'],fontsize=15)\n",
    "plt.show()"
   ]
  },
  {
   "cell_type": "code",
   "execution_count": 21,
   "id": "c324ba09",
   "metadata": {},
   "outputs": [
    {
     "name": "stderr",
     "output_type": "stream",
     "text": [
      "C:\\Users\\theocf\\AppData\\Local\\anaconda3\\Lib\\site-packages\\keras\\src\\engine\\training.py:3000: UserWarning: You are saving your model as an HDF5 file via `model.save()`. This file format is considered legacy. We recommend using instead the native Keras format, e.g. `model.save('my_model.keras')`.\n",
      "  saving_api.save_model(\n"
     ]
    }
   ],
   "source": [
    "model.save(\"Y:\\ALUNOS\\PRESAL2\\EXOCARB\\GRADUACAO\\THEO COHEN\\Atividades - Théo Cohen Farhat - 2023&2024\\dataset\\modelo-porosidade.h5\")"
   ]
  }
 ],
 "metadata": {
  "kernelspec": {
   "display_name": "Python 3 (ipykernel)",
   "language": "python",
   "name": "python3"
  },
  "language_info": {
   "codemirror_mode": {
    "name": "ipython",
    "version": 3
   },
   "file_extension": ".py",
   "mimetype": "text/x-python",
   "name": "python",
   "nbconvert_exporter": "python",
   "pygments_lexer": "ipython3",
   "version": "3.11.4"
  }
 },
 "nbformat": 4,
 "nbformat_minor": 5
}
